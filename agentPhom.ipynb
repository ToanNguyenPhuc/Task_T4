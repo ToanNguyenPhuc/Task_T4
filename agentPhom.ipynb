{
 "cells": [
  {
   "cell_type": "code",
   "execution_count": 1,
   "metadata": {},
   "outputs": [],
   "source": [
    "\n",
    "import numpy as np\n",
    "import random as rd\n",
    "from numba import njit, jit\n",
    "import sys, os\n",
    "from setup import SHORT_PATH\n",
    "import importlib.util\n",
    "game_name = 'Phom'\n",
    "\n",
    "def add_game_to_syspath(game_name):\n",
    "    if len(sys.argv) >= 2:\n",
    "        sys.argv = [sys.argv[0]]\n",
    "    sys.argv.append(game_name)\n",
    "\n",
    "def setup_game(game_name):\n",
    "    spec = importlib.util.spec_from_file_location('env', f\"{SHORT_PATH}Base/{game_name}/env.py\")\n",
    "    module = importlib.util.module_from_spec(spec)\n",
    "    sys.modules[spec.name] = module \n",
    "    spec.loader.exec_module(module)\n",
    "    return module\n",
    "\n",
    "add_game_to_syspath(game_name)\n",
    "env = setup_game(game_name)\n",
    "\n",
    "getActionSize = env.getActionSize\n",
    "getStateSize = env.getStateSize\n",
    "getAgentSize = env.getAgentSize\n",
    "\n",
    "getValidActions = env.getValidActions\n",
    "getReward = env.getReward\n",
    "numba_main_2 = env.numba_main_2\n",
    "\n",
    "@njit()\n",
    "def bot_lv0(state, perData):\n",
    "    validActions = getValidActions(state)\n",
    "    arr_action = np.where(validActions==1)[0]\n",
    "    idx = np.random.randint(0, arr_action.shape[0])\n",
    "    return arr_action[idx], perData\n"
   ]
  },
  {
   "cell_type": "code",
   "execution_count": 4,
   "metadata": {},
   "outputs": [
    {
     "name": "stdout",
     "output_type": "stream",
     "text": [
      "6917\n"
     ]
    }
   ],
   "source": [
    "@njit()\n",
    "def getValueCard(state):\n",
    "  cards = state[0:51]\n",
    "  cards = np.where(cards == 1)[0]\n",
    "  cardInPhom = state[104+52+52:104+52+52+52]\n",
    "  cardInPhom = np.where(cardInPhom == 1)[0]\n",
    "  arr_return = np.zeros(len(cards))\n",
    "  for i in range(len(cards)):\n",
    "     for j in range(i,len(cards)):\n",
    "       if cards[i] // 4 == cards[j] // 4:\n",
    "          arr_return[i] += 1\n",
    "       if (cards[j] // 4) - (cards[i] // 4) == 1 and cards[j] % 4 == cards[i] % 4 :\n",
    "         arr_return[i] += 1\n",
    "     cost_ =  cards[i] * 0.07\n",
    "     arr_return[i] -= cost_\n",
    "     if cards[i] in cardInPhom:\n",
    "        arr_return[i] = 100000\n",
    "  return arr_return\n",
    "@njit()\n",
    "def agentPhom(state,per):\n",
    "    actions = getValidActions(state)\n",
    "    actions = np.where(actions == 1)[0]\n",
    "    cardInPhom = state[104+52+52:104+52+52+52]\n",
    "    cardInPhom = np.where(cardInPhom == 1)[0]\n",
    "    cards = state[0:51]\n",
    "    cards = np.where(cards == 1)[0]\n",
    "    if 0 in actions:    \n",
    "        return 0,per\n",
    "    if 1 in actions:\n",
    "        return 1,per\n",
    "    arr_value = getValueCard(state)\n",
    "    idx_ = np.argmin(arr_value)\n",
    "    if  cards[idx_] + 2 in actions:\n",
    "        return cards[idx_] + 2,per\n",
    "    return np.random.choice(actions),per\n",
    "win,per = numba_main_2(agentPhom,10000,np.array([0.]),1)\n",
    "print(win)"
   ]
  },
  {
   "cell_type": "code",
   "execution_count": null,
   "metadata": {},
   "outputs": [],
   "source": []
  }
 ],
 "metadata": {
  "kernelspec": {
   "display_name": "Python 3",
   "language": "python",
   "name": "python3"
  },
  "language_info": {
   "codemirror_mode": {
    "name": "ipython",
    "version": 3
   },
   "file_extension": ".py",
   "mimetype": "text/x-python",
   "name": "python",
   "nbconvert_exporter": "python",
   "pygments_lexer": "ipython3",
   "version": "3.10.11"
  },
  "orig_nbformat": 4
 },
 "nbformat": 4,
 "nbformat_minor": 2
}
